{
 "cells": [
  {
   "cell_type": "markdown",
   "id": "31619354",
   "metadata": {},
   "source": [
    "# NUMPY İMPORT ETME VE DİZİ OLUŞTURMA"
   ]
  },
  {
   "cell_type": "markdown",
   "id": "689b9848",
   "metadata": {},
   "source": [
    "3 boyutlu dizi oluşturuldu. Ardından sıfırlardan oluşan 2 satırlı üç sütunlu dizi oluşturuldu. Daha sonra birlerden oluşan bir dizi. Sonra ise 10 ile doldurulmuş yalnızca 10'lardan oluşmuş bir dizi."
   ]
  },
  {
   "cell_type": "code",
   "execution_count": 3,
   "id": "ed9ec46e",
   "metadata": {},
   "outputs": [
    {
     "data": {
      "text/plain": [
       "array([[[1, 2, 3],\n",
       "        [1, 2, 3],\n",
       "        [1, 2, 3]]])"
      ]
     },
     "execution_count": 3,
     "metadata": {},
     "output_type": "execute_result"
    }
   ],
   "source": [
    "import numpy as np\n",
    "a= np.array([[[1,2,3],[1,2,3],[1,2,3]]])\n",
    "a"
   ]
  },
  {
   "cell_type": "code",
   "execution_count": 18,
   "id": "44ba30e3",
   "metadata": {},
   "outputs": [
    {
     "data": {
      "text/plain": [
       "array([[0, 0, 0],\n",
       "       [0, 0, 0]])"
      ]
     },
     "execution_count": 18,
     "metadata": {},
     "output_type": "execute_result"
    }
   ],
   "source": [
    "a=np.zeros((2,3),dtype=int)\n",
    "a"
   ]
  },
  {
   "cell_type": "code",
   "execution_count": 17,
   "id": "62f57600",
   "metadata": {},
   "outputs": [
    {
     "data": {
      "text/plain": [
       "array([1, 1, 1, 1])"
      ]
     },
     "execution_count": 17,
     "metadata": {},
     "output_type": "execute_result"
    }
   ],
   "source": [
    "a=np.ones((4),dtype=int)\n",
    "a"
   ]
  },
  {
   "cell_type": "code",
   "execution_count": 20,
   "id": "add13286",
   "metadata": {},
   "outputs": [
    {
     "data": {
      "text/plain": [
       "array([[10, 10, 10],\n",
       "       [10, 10, 10]])"
      ]
     },
     "execution_count": 20,
     "metadata": {},
     "output_type": "execute_result"
    }
   ],
   "source": [
    "a=np.full((2,3),10)\n",
    "a"
   ]
  },
  {
   "cell_type": "markdown",
   "id": "8556e0de",
   "metadata": {},
   "source": [
    "arange ile 1'den 20'ye kadar ikişer ikişer artan bir dizi oluşturuldu. Linspace ise verilen sayı aralığında num=x ile x büyüklüğünde eşit aralıklı(sayılar arasındaki far eşit olacak şekilde) bir dizi oluşturdu. Random.randint ise verilen aralıkta son sayı kadar sayıyı random üretti. Virgülden sonra(en son) iki boyutlu bir sayı ör:(2,2) gelirse iki boyutlu dizi oluşturulur."
   ]
  },
  {
   "cell_type": "code",
   "execution_count": 22,
   "id": "5689c391",
   "metadata": {},
   "outputs": [
    {
     "data": {
      "text/plain": [
       "array([ 1,  3,  5,  7,  9, 11, 13, 15, 17, 19])"
      ]
     },
     "execution_count": 22,
     "metadata": {},
     "output_type": "execute_result"
    }
   ],
   "source": [
    "a=np.arange(1,20,2)\n",
    "a"
   ]
  },
  {
   "cell_type": "code",
   "execution_count": 13,
   "id": "ccd9a1c0",
   "metadata": {},
   "outputs": [
    {
     "data": {
      "text/plain": [
       "array([1., 6.])"
      ]
     },
     "execution_count": 13,
     "metadata": {},
     "output_type": "execute_result"
    }
   ],
   "source": [
    "a=np.linspace(1,6,num=2)\n",
    "a"
   ]
  },
  {
   "cell_type": "code",
   "execution_count": 35,
   "id": "d00574d6",
   "metadata": {},
   "outputs": [
    {
     "data": {
      "text/plain": [
       "array([3, 9, 8])"
      ]
     },
     "execution_count": 35,
     "metadata": {},
     "output_type": "execute_result"
    }
   ],
   "source": [
    "a=np.random.randint(1,10,3)\n",
    "a"
   ]
  },
  {
   "cell_type": "code",
   "execution_count": 36,
   "id": "246aa153",
   "metadata": {},
   "outputs": [
    {
     "data": {
      "text/plain": [
       "array([[5, 3, 7],\n",
       "       [4, 1, 5],\n",
       "       [5, 5, 7]])"
      ]
     },
     "execution_count": 36,
     "metadata": {},
     "output_type": "execute_result"
    }
   ],
   "source": [
    "b=np.random.randint(1,10,(3,3))\n",
    "b"
   ]
  },
  {
   "cell_type": "markdown",
   "id": "aa7cd73e",
   "metadata": {},
   "source": [
    "Shape ile dizinin eleman sayısını öğrendik. ndim ile dizinin boyutunu öğrendik.Size ile bir dizinin toplam eleman sayısını öğrendik. dtype ile dizideki elemanların tipini öğrendik. İtemsize ile her bir elemanın  bayt cinsisnden değeri bulunur."
   ]
  },
  {
   "cell_type": "code",
   "execution_count": 42,
   "id": "109c3522",
   "metadata": {},
   "outputs": [
    {
     "data": {
      "text/plain": [
       "(2, 2)"
      ]
     },
     "execution_count": 42,
     "metadata": {},
     "output_type": "execute_result"
    }
   ],
   "source": [
    "a=np.array([[1,1],[2,1]])\n",
    "a.shape"
   ]
  },
  {
   "cell_type": "code",
   "execution_count": 43,
   "id": "051b9347",
   "metadata": {},
   "outputs": [
    {
     "data": {
      "text/plain": [
       "1"
      ]
     },
     "execution_count": 43,
     "metadata": {},
     "output_type": "execute_result"
    }
   ],
   "source": [
    "a=np.array([1,2,3])\n",
    "a.ndim"
   ]
  },
  {
   "cell_type": "code",
   "execution_count": 47,
   "id": "07e9f79f",
   "metadata": {},
   "outputs": [
    {
     "data": {
      "text/plain": [
       "5"
      ]
     },
     "execution_count": 47,
     "metadata": {},
     "output_type": "execute_result"
    }
   ],
   "source": [
    "a=np.array([1,2,3,4,5])\n",
    "a.size"
   ]
  },
  {
   "cell_type": "code",
   "execution_count": 49,
   "id": "0fd3c6ba",
   "metadata": {},
   "outputs": [
    {
     "data": {
      "text/plain": [
       "dtype('int32')"
      ]
     },
     "execution_count": 49,
     "metadata": {},
     "output_type": "execute_result"
    }
   ],
   "source": [
    "a=np.array([1,2,3])\n",
    "a.dtype"
   ]
  },
  {
   "cell_type": "code",
   "execution_count": 53,
   "id": "781c6ae7",
   "metadata": {},
   "outputs": [
    {
     "data": {
      "text/plain": [
       "4"
      ]
     },
     "execution_count": 53,
     "metadata": {},
     "output_type": "execute_result"
    }
   ],
   "source": [
    "a=np.array([1,2,3])\n",
    "a.itemsize"
   ]
  },
  {
   "cell_type": "code",
   "execution_count": 56,
   "id": "e4a4d978",
   "metadata": {},
   "outputs": [
    {
     "data": {
      "text/plain": [
       "99"
      ]
     },
     "execution_count": 56,
     "metadata": {},
     "output_type": "execute_result"
    }
   ],
   "source": [
    "a=np.array([1,2,3,4])\n",
    "a[3]=99\n",
    "a[3]"
   ]
  },
  {
   "cell_type": "code",
   "execution_count": 58,
   "id": "e17b8cff",
   "metadata": {},
   "outputs": [
    {
     "data": {
      "text/plain": [
       "array([[1, 2, 3],\n",
       "       [4, 5, 6],\n",
       "       [7, 8, 9]])"
      ]
     },
     "execution_count": 58,
     "metadata": {},
     "output_type": "execute_result"
    }
   ],
   "source": [
    "b= np.array([[1,2,3], [4,5,6], [7,8,9]])\n",
    "b"
   ]
  },
  {
   "cell_type": "code",
   "execution_count": 61,
   "id": "8696dd44",
   "metadata": {},
   "outputs": [
    {
     "data": {
      "text/plain": [
       "9"
      ]
     },
     "execution_count": 61,
     "metadata": {},
     "output_type": "execute_result"
    }
   ],
   "source": [
    "b= np.array([[1,2,3], [4,5,6], [7,8,9]])\n",
    "b[2][2]"
   ]
  },
  {
   "cell_type": "code",
   "execution_count": 16,
   "id": "7ee56fe0",
   "metadata": {},
   "outputs": [
    {
     "data": {
      "text/plain": [
       "12"
      ]
     },
     "execution_count": 16,
     "metadata": {},
     "output_type": "execute_result"
    }
   ],
   "source": [
    "c = np.array([[[1,2,3], [4,5,6]], [[7,8,9], [10,11,12]]])\n",
    "c[1,1,2]"
   ]
  },
  {
   "cell_type": "code",
   "execution_count": 67,
   "id": "1d4444a6",
   "metadata": {},
   "outputs": [
    {
     "data": {
      "text/plain": [
       "array([[[ 1,  2,  3],\n",
       "        [ 4,  5,  6]],\n",
       "\n",
       "       [[ 7,  8,  9],\n",
       "        [10, 11, 12]]])"
      ]
     },
     "execution_count": 67,
     "metadata": {},
     "output_type": "execute_result"
    }
   ],
   "source": [
    "c = np.array([[[1,2,3], [4,5,6]], [[7,8,9], [10,11,12]]])\n",
    "c"
   ]
  },
  {
   "cell_type": "markdown",
   "id": "12c4c480",
   "metadata": {},
   "source": [
    "# AYRIŞTIRMA"
   ]
  },
  {
   "cell_type": "markdown",
   "id": "dbd064e1",
   "metadata": {},
   "source": [
    "a[a:b:c] işleminde a başlangıç değeri b bitiş değeri ve c artış değeridir. a[a:b,c:d] burda ise a,b başlangıç bitiş değerleri. c, d ise hangi satır ve sütun aralığını almamız gerektiğidir."
   ]
  },
  {
   "cell_type": "code",
   "execution_count": 70,
   "id": "ccc904c9",
   "metadata": {},
   "outputs": [
    {
     "data": {
      "text/plain": [
       "array([2, 4, 6, 8])"
      ]
     },
     "execution_count": 70,
     "metadata": {},
     "output_type": "execute_result"
    }
   ],
   "source": [
    "a=np.arange(1,30)\n",
    "a[1:9:2]"
   ]
  },
  {
   "cell_type": "code",
   "execution_count": 77,
   "id": "493c17f1",
   "metadata": {},
   "outputs": [
    {
     "data": {
      "text/plain": [
       "array([[ 5, 14],\n",
       "       [10,  3]])"
      ]
     },
     "execution_count": 77,
     "metadata": {},
     "output_type": "execute_result"
    }
   ],
   "source": [
    "a=np.random.randint(1,30,(4,4))\n",
    "a[0:2,1:3]"
   ]
  },
  {
   "cell_type": "markdown",
   "id": "42afbcf7",
   "metadata": {},
   "source": [
    "a[a>20] 20 üstü olan değerleri yazar ekrana sadece."
   ]
  },
  {
   "cell_type": "code",
   "execution_count": 78,
   "id": "a8f5003b",
   "metadata": {},
   "outputs": [
    {
     "data": {
      "text/plain": [
       "array([24, 24, 22, 25])"
      ]
     },
     "execution_count": 78,
     "metadata": {},
     "output_type": "execute_result"
    }
   ],
   "source": [
    "a=np.random.randint(1,30,(4,4))\n",
    "a[a>20]"
   ]
  },
  {
   "cell_type": "markdown",
   "id": "063859c7",
   "metadata": {},
   "source": [
    "reshape ile dizinin boyutu yeniden ayarlanılır. b.reshape(-1) boyutunu bir azaltır.concatenate ile aynı boyutlu iki dizi birleştirilir. axis =1 veya axis=0 satır veya sütun bazında birleştirme için kullanılır. Split ise bölmeye yarar(filmden aklına gelsin:))"
   ]
  },
  {
   "cell_type": "code",
   "execution_count": 84,
   "id": "2e7923f2",
   "metadata": {},
   "outputs": [
    {
     "data": {
      "text/plain": [
       "array([1, 2, 3, 4, 5, 6, 7, 8, 9])"
      ]
     },
     "execution_count": 84,
     "metadata": {},
     "output_type": "execute_result"
    }
   ],
   "source": [
    "a=np.arange(1,10)\n",
    "a\n",
    "b=a.reshape(3,3)\n",
    "b.reshape(-1)"
   ]
  },
  {
   "cell_type": "code",
   "execution_count": 89,
   "id": "6d59fed6",
   "metadata": {},
   "outputs": [
    {
     "data": {
      "text/plain": [
       "array([1, 2, 3, 4, 5, 6])"
      ]
     },
     "execution_count": 89,
     "metadata": {},
     "output_type": "execute_result"
    }
   ],
   "source": [
    "a=np.array([1,2,3])\n",
    "b=np.array([4,5,6])\n",
    "t=np.concatenate([a,b])\n",
    "t"
   ]
  },
  {
   "cell_type": "code",
   "execution_count": 93,
   "id": "8e0bfb17",
   "metadata": {},
   "outputs": [
    {
     "data": {
      "text/plain": [
       "array([[ 1,  2,  3],\n",
       "       [ 4,  5,  6],\n",
       "       [ 7,  8,  9],\n",
       "       [10, 11, 12]])"
      ]
     },
     "execution_count": 93,
     "metadata": {},
     "output_type": "execute_result"
    }
   ],
   "source": [
    "a=np.array([[1,2,3],[4,5,6]])\n",
    "b=np.array([[7,8,9],[10,11,12]])\n",
    "t=np.concatenate([a,b],axis=0)\n",
    "t"
   ]
  },
  {
   "cell_type": "code",
   "execution_count": 4,
   "id": "3ed4269b",
   "metadata": {},
   "outputs": [
    {
     "data": {
      "text/plain": [
       "[array([1, 2, 3]), array([4, 5, 6]), array([7, 8, 9])]"
      ]
     },
     "execution_count": 4,
     "metadata": {},
     "output_type": "execute_result"
    }
   ],
   "source": [
    "a=np.array([1,2,3,4,5,6,7,8,9])\n",
    "np.split(a,3)"
   ]
  },
  {
   "cell_type": "code",
   "execution_count": 11,
   "id": "e19fd49b",
   "metadata": {},
   "outputs": [
    {
     "name": "stdout",
     "output_type": "stream",
     "text": [
      "[1]\n",
      "[2 3 4]\n",
      "[5 6]\n"
     ]
    }
   ],
   "source": [
    "a=np.array([1,2,3,4,5,6])\n",
    "b,c,d=np.split(a,[1,4])\n",
    "print(b)\n",
    "print(c)\n",
    "print(d)"
   ]
  },
  {
   "cell_type": "markdown",
   "id": "dcfd5640",
   "metadata": {},
   "source": [
    "arange ile bir dizi oluşturduk. ardından reshape ile yeniden boyutlandırdık. vsplit(vertical) ile a yı satır bazında alt dizilere böldük.hsplit(horizontal) ile a yı satır bazında alt dizilere böldük. "
   ]
  },
  {
   "cell_type": "code",
   "execution_count": 32,
   "id": "5946b9a4",
   "metadata": {},
   "outputs": [
    {
     "name": "stdout",
     "output_type": "stream",
     "text": [
      "[[0 1 2 3]\n",
      " [4 5 6 7]]\n",
      "[[ 8  9 10 11]\n",
      " [12 13 14 15]]\n",
      "[[ 0  1]\n",
      " [ 4  5]\n",
      " [ 8  9]\n",
      " [12 13]]\n",
      "[[ 2  3]\n",
      " [ 6  7]\n",
      " [10 11]\n",
      " [14 15]]\n"
     ]
    }
   ],
   "source": [
    "a=np.arange(16).reshape(4,4)\n",
    "b,c=np.vsplit(a,2)\n",
    "d,e=np.hsplit(a,2)\n",
    "print(b)\n",
    "print(c)\n",
    "print(d)\n",
    "print(e)"
   ]
  },
  {
   "cell_type": "markdown",
   "id": "0069daf2",
   "metadata": {},
   "source": [
    "# SIRALAMA"
   ]
  },
  {
   "cell_type": "markdown",
   "id": "d8be6a47",
   "metadata": {},
   "source": [
    "random fonksiyonunun içindeki (1,100,10) şöyle: 1 başlangıç 100  bitiş 10 ise kaç değer üretmek istediğimiz. Sort ile de sıralarız. a.sort() ile kalıcı olarak sıralayabiliriz."
   ]
  },
  {
   "cell_type": "code",
   "execution_count": 34,
   "id": "1e972b69",
   "metadata": {},
   "outputs": [
    {
     "data": {
      "text/plain": [
       "array([ 3,  4,  6, 15, 45, 54, 55, 59, 72, 93])"
      ]
     },
     "execution_count": 34,
     "metadata": {},
     "output_type": "execute_result"
    }
   ],
   "source": [
    "a=np.random.randint(1,100,10)\n",
    "np.sort(a)#sonucu sıralamak için geçici sıralama\n",
    "a.sort()#kalıcı bir sıralama\n",
    "a"
   ]
  },
  {
   "cell_type": "code",
   "execution_count": 38,
   "id": "6ceb6734",
   "metadata": {},
   "outputs": [
    {
     "name": "stdout",
     "output_type": "stream",
     "text": [
      "[[48 86]\n",
      " [ 8 97]]\n",
      "[[48  8]\n",
      " [97 86]]\n"
     ]
    }
   ],
   "source": [
    "a=np.random.randint(1,100,(2,2)) #iki boyutlu random dizi\n",
    "b=np.sort(a,axis=1) #satır bazında sıralar.\n",
    "c=np.sort(a,axis=0) #sütun bazında sırlar.\n",
    "print(b)\n",
    "print(c)"
   ]
  },
  {
   "cell_type": "markdown",
   "id": "f36b5776",
   "metadata": {},
   "source": [
    "# OPERATÖRLER, MATEMATİK VE İSTATİSTİK"
   ]
  },
  {
   "cell_type": "code",
   "execution_count": 40,
   "id": "640b51d1",
   "metadata": {},
   "outputs": [
    {
     "data": {
      "text/plain": [
       "8"
      ]
     },
     "execution_count": 40,
     "metadata": {},
     "output_type": "execute_result"
    }
   ],
   "source": [
    "a=2\n",
    "a**3 #2 yıldız üssü işlemi yapar."
   ]
  },
  {
   "cell_type": "markdown",
   "id": "acfd8ac2",
   "metadata": {},
   "source": [
    "add işlemi ekleme yapar adından da anlaşılacağı gibi. subtract ise çıkarma işlemi yapar.multiply ise çarpma yapar. power fonsksiyonu ise üs alır."
   ]
  },
  {
   "cell_type": "code",
   "execution_count": 53,
   "id": "eeccf4fb",
   "metadata": {},
   "outputs": [
    {
     "name": "stdout",
     "output_type": "stream",
     "text": [
      "toplama(a+b): [ 7  8 14]\n",
      "toplama(a+5): [11 10 13]\n",
      "çıkarma: [5 2 2]\n",
      "çarpma: [12 10 16]\n",
      "üs alma: [36 25 64]\n"
     ]
    }
   ],
   "source": [
    "a=np.array([6,5,8])\n",
    "b=np.array([1,3,6])\n",
    "print(\"toplama(a+b):\",np.add(a,b))\n",
    "print(\"toplama(a+5):\" ,np.add(a,5))\n",
    "print(\"çıkarma:\", np.subtract(a,b))\n",
    "print(\"çarpma:\", np.multiply(a,2))\n",
    "print(\"üs alma:\", np.power(a,2))"
   ]
  },
  {
   "cell_type": "code",
   "execution_count": 60,
   "id": "bf7ed98c",
   "metadata": {},
   "outputs": [
    {
     "name": "stdout",
     "output_type": "stream",
     "text": [
      "sinüs alma: [0.5       0.8660254 1.       ]\n",
      "cosinüs alma: [8.66025404e-01 5.00000000e-01 6.12323400e-17]\n",
      "tanjant alma: [5.77350269e-01 1.73205081e+00 1.63312394e+16]\n"
     ]
    }
   ],
   "source": [
    "a=np.array([30,60,90])\n",
    "print(\"sinüs alma:\",np.sin(a*np.pi/180))\n",
    "print(\"cosinüs alma:\",np.cos(a*np.pi/180))\n",
    "print(\"tanjant alma:\",np.tan(a*np.pi/180))"
   ]
  },
  {
   "cell_type": "markdown",
   "id": "0e73f22f",
   "metadata": {},
   "source": [
    "max maksimum değeri bulur. min ise minimum değeri bulur.mean ile ortlama bulunur. std ile standart sapma bulunur."
   ]
  },
  {
   "cell_type": "code",
   "execution_count": 79,
   "id": "7c795ea9",
   "metadata": {},
   "outputs": [
    {
     "name": "stdout",
     "output_type": "stream",
     "text": [
      "[18  1 10 13  7]\n",
      "[[97 75]\n",
      " [26 68]]\n",
      "max değer: 18\n",
      "min değer 1\n",
      "b'nin yataydaki en büyük değerleri [97 68]\n",
      "b'nin dikeydeki en büyük değerleri [97 75]\n",
      "değerler toplamı yatayda: 49\n",
      "değerler toplamı dikeyde: [172  94]\n",
      "a'nın değer ortalaması: 9.8\n",
      "b'nin yatay ortalaması: [86. 47.]\n",
      "b'niin dikey ortalamsı: [61.5 71.5]\n",
      "a'nın standart sapması: 5.706137047074842\n",
      "b'nin yatay standart sapması: [11. 21.]\n",
      "b'nin dikeyde standart sapması: [35.5  3.5]\n"
     ]
    }
   ],
   "source": [
    "a=np.random.randint(1,20,5)\n",
    "b=np.random.randint(1,100,(2,2))\n",
    "print(a)\n",
    "print(b)\n",
    "print(\"max değer:\",a.max())\n",
    "print(\"min değer\",a.min())\n",
    "print(\"b'nin yataydaki en büyük değerleri\",b.max(axis=1))\n",
    "print(\"b'nin dikeydeki en büyük değerleri\",b.max(axis=0))#aynısı min fonksiyonu için de geçerli.\n",
    "print(\"değerler toplamı yatayda:\", np.sum(a,axis=0))\n",
    "print(\"değerler toplamı dikeyde:\", np.sum(b,axis=1))\n",
    "print(\"a'nın değer ortalaması:\",a.mean())\n",
    "print(\"b'nin yatay ortalaması:\",b.mean(axis=1))\n",
    "print(\"b'niin dikey ortalamsı:\",b.mean(axis=0))\n",
    "print(\"a'nın standart sapması:\",a.std())\n",
    "print(\"b'nin yatay standart sapması:\",b.std(axis=1))\n",
    "print(\"b'nin dikeyde standart sapması:\",b.std(axis=0))"
   ]
  },
  {
   "cell_type": "markdown",
   "id": "281eeb28",
   "metadata": {},
   "source": [
    "# PANDAS İMPORT ETME ,TANIMI "
   ]
  },
  {
   "cell_type": "markdown",
   "id": "1bdd184a",
   "metadata": {},
   "source": [
    "Pandas kütüphanesi CVS dosyaları, Excel dosyaları veya veri tabanı tabloları gibi yapılandırılmış verilerle işlem yapmak için kullanışlıdır. Pandas temel olarak Seriler ve DataFrame olmak üzere iki veri tipi kullanır.Seriler, bir boyutlu etiketli indekslenmiş verilerdir.Seri içindeki veriler aynı türe sahiptir. Pandas DataFrame, sütun ve satırlardan oluşan iki boyutlu veri tablolarıdır."
   ]
  },
  {
   "cell_type": "code",
   "execution_count": 2,
   "id": "5a658d17",
   "metadata": {},
   "outputs": [],
   "source": [
    "import pandas as pd"
   ]
  },
  {
   "cell_type": "code",
   "execution_count": 80,
   "id": "e9adabd3",
   "metadata": {},
   "outputs": [
    {
     "name": "stdout",
     "output_type": "stream",
     "text": [
      "['rabia', 'merve', 'emre', 'cem']\n"
     ]
    }
   ],
   "source": [
    "data=[\"rabia\",\"merve\",\"emre\",\"cem\"]\n",
    "print(data)"
   ]
  },
  {
   "cell_type": "markdown",
   "id": "9096ed20",
   "metadata": {},
   "source": [
    "# SERİ OLUŞTURMA"
   ]
  },
  {
   "cell_type": "markdown",
   "id": "b63e41f3",
   "metadata": {},
   "source": [
    "Series() ile seri oluşturulur."
   ]
  },
  {
   "cell_type": "code",
   "execution_count": 83,
   "id": "24e550b2",
   "metadata": {},
   "outputs": [
    {
     "data": {
      "text/plain": [
       "0    rabia\n",
       "1    merve\n",
       "2     emre\n",
       "3      cem\n",
       "dtype: object"
      ]
     },
     "execution_count": 83,
     "metadata": {},
     "output_type": "execute_result"
    }
   ],
   "source": [
    "s1=pd.Series(data)\n",
    "s1"
   ]
  },
  {
   "cell_type": "code",
   "execution_count": 84,
   "id": "313e95c7",
   "metadata": {},
   "outputs": [
    {
     "data": {
      "text/plain": [
       "0       ali\n",
       "1      ayşe\n",
       "2    mehmet\n",
       "dtype: object"
      ]
     },
     "execution_count": 84,
     "metadata": {},
     "output_type": "execute_result"
    }
   ],
   "source": [
    "a=np.array([\"ali\",\"ayşe\",\"mehmet\"])\n",
    "s1=pd.Series(a)\n",
    "s1"
   ]
  },
  {
   "cell_type": "code",
   "execution_count": 87,
   "id": "332b0c0d",
   "metadata": {},
   "outputs": [
    {
     "data": {
      "text/plain": [
       "tr                 türkiye\n",
       "dr                  doktor\n",
       "att    acil tıp teknisyeni\n",
       "dtype: object"
      ]
     },
     "execution_count": 87,
     "metadata": {},
     "output_type": "execute_result"
    }
   ],
   "source": [
    "#phyton sözlüğü üzerinden seri oluşturma\n",
    "dict={\"tr\":\"türkiye\",\"dr\":\"doktor\",\"att\":\"acil tıp teknisyeni\"}\n",
    "s1=pd.Series(dict)\n",
    "s1"
   ]
  },
  {
   "cell_type": "markdown",
   "id": "514c7a3c",
   "metadata": {},
   "source": [
    "# DATAFRAME OLUŞTURMA"
   ]
  },
  {
   "cell_type": "code",
   "execution_count": 95,
   "id": "1e86d7b1",
   "metadata": {},
   "outputs": [
    {
     "data": {
      "text/html": [
       "<div>\n",
       "<style scoped>\n",
       "    .dataframe tbody tr th:only-of-type {\n",
       "        vertical-align: middle;\n",
       "    }\n",
       "\n",
       "    .dataframe tbody tr th {\n",
       "        vertical-align: top;\n",
       "    }\n",
       "\n",
       "    .dataframe thead th {\n",
       "        text-align: right;\n",
       "    }\n",
       "</style>\n",
       "<table border=\"1\" class=\"dataframe\">\n",
       "  <thead>\n",
       "    <tr style=\"text-align: right;\">\n",
       "      <th></th>\n",
       "      <th>liste</th>\n",
       "    </tr>\n",
       "  </thead>\n",
       "  <tbody>\n",
       "    <tr>\n",
       "      <th>0</th>\n",
       "      <td>1</td>\n",
       "    </tr>\n",
       "    <tr>\n",
       "      <th>1</th>\n",
       "      <td>2</td>\n",
       "    </tr>\n",
       "    <tr>\n",
       "      <th>2</th>\n",
       "      <td>3</td>\n",
       "    </tr>\n",
       "    <tr>\n",
       "      <th>3</th>\n",
       "      <td>a</td>\n",
       "    </tr>\n",
       "    <tr>\n",
       "      <th>4</th>\n",
       "      <td>b</td>\n",
       "    </tr>\n",
       "    <tr>\n",
       "      <th>5</th>\n",
       "      <td>c</td>\n",
       "    </tr>\n",
       "  </tbody>\n",
       "</table>\n",
       "</div>"
      ],
      "text/plain": [
       "  liste\n",
       "0     1\n",
       "1     2\n",
       "2     3\n",
       "3     a\n",
       "4     b\n",
       "5     c"
      ]
     },
     "execution_count": 95,
     "metadata": {},
     "output_type": "execute_result"
    }
   ],
   "source": [
    "#ilk olarak phyton listesi oluşturulur.\n",
    "liste=[1,2,3,\"a\",\"b\",\"c\"] \n",
    "dataframe1=pd.DataFrame(liste,columns=[\"liste\"])\n",
    "dataframe1"
   ]
  },
  {
   "cell_type": "code",
   "execution_count": 98,
   "id": "70d16580",
   "metadata": {},
   "outputs": [
    {
     "data": {
      "text/html": [
       "<div>\n",
       "<style scoped>\n",
       "    .dataframe tbody tr th:only-of-type {\n",
       "        vertical-align: middle;\n",
       "    }\n",
       "\n",
       "    .dataframe tbody tr th {\n",
       "        vertical-align: top;\n",
       "    }\n",
       "\n",
       "    .dataframe thead th {\n",
       "        text-align: right;\n",
       "    }\n",
       "</style>\n",
       "<table border=\"1\" class=\"dataframe\">\n",
       "  <thead>\n",
       "    <tr style=\"text-align: right;\">\n",
       "      <th></th>\n",
       "      <th>member</th>\n",
       "      <th>old</th>\n",
       "    </tr>\n",
       "  </thead>\n",
       "  <tbody>\n",
       "    <tr>\n",
       "      <th>0</th>\n",
       "      <td>selin</td>\n",
       "      <td>33</td>\n",
       "    </tr>\n",
       "    <tr>\n",
       "      <th>1</th>\n",
       "      <td>ahmet</td>\n",
       "      <td>18</td>\n",
       "    </tr>\n",
       "    <tr>\n",
       "      <th>2</th>\n",
       "      <td>burçin</td>\n",
       "      <td>22</td>\n",
       "    </tr>\n",
       "  </tbody>\n",
       "</table>\n",
       "</div>"
      ],
      "text/plain": [
       "   member  old\n",
       "0   selin   33\n",
       "1   ahmet   18\n",
       "2  burçin   22"
      ]
     },
     "execution_count": 98,
     "metadata": {},
     "output_type": "execute_result"
    }
   ],
   "source": [
    "#iki boyutlu dataframe yapalım.\n",
    "liste=[[\"selin\",33],[\"ahmet\",18],[\"burçin\",22]]\n",
    "df=pd.DataFrame(liste,columns=[\"member\",\"old\"])\n",
    "df"
   ]
  },
  {
   "cell_type": "code",
   "execution_count": 100,
   "id": "29678df6",
   "metadata": {},
   "outputs": [
    {
     "data": {
      "text/html": [
       "<div>\n",
       "<style scoped>\n",
       "    .dataframe tbody tr th:only-of-type {\n",
       "        vertical-align: middle;\n",
       "    }\n",
       "\n",
       "    .dataframe tbody tr th {\n",
       "        vertical-align: top;\n",
       "    }\n",
       "\n",
       "    .dataframe thead th {\n",
       "        text-align: right;\n",
       "    }\n",
       "</style>\n",
       "<table border=\"1\" class=\"dataframe\">\n",
       "  <thead>\n",
       "    <tr style=\"text-align: right;\">\n",
       "      <th></th>\n",
       "      <th>member</th>\n",
       "      <th>old</th>\n",
       "    </tr>\n",
       "  </thead>\n",
       "  <tbody>\n",
       "    <tr>\n",
       "      <th>0</th>\n",
       "      <td>selin</td>\n",
       "      <td>33</td>\n",
       "    </tr>\n",
       "    <tr>\n",
       "      <th>1</th>\n",
       "      <td>ahmet</td>\n",
       "      <td>18</td>\n",
       "    </tr>\n",
       "    <tr>\n",
       "      <th>2</th>\n",
       "      <td>burçin</td>\n",
       "      <td>22</td>\n",
       "    </tr>\n",
       "  </tbody>\n",
       "</table>\n",
       "</div>"
      ],
      "text/plain": [
       "   member  old\n",
       "0   selin   33\n",
       "1   ahmet   18\n",
       "2  burçin   22"
      ]
     },
     "execution_count": 100,
     "metadata": {},
     "output_type": "execute_result"
    }
   ],
   "source": [
    "#liste sözlüğünden dataframe yapalım.\n",
    "listdict={\"member\":[\"selin\",\"ahmet\",\"burçin\"],\"old\":[33,18,22]}\n",
    "df=pd.DataFrame(listdict)\n",
    "df"
   ]
  },
  {
   "cell_type": "code",
   "execution_count": 103,
   "id": "c0c174f1",
   "metadata": {},
   "outputs": [
    {
     "data": {
      "text/html": [
       "<div>\n",
       "<style scoped>\n",
       "    .dataframe tbody tr th:only-of-type {\n",
       "        vertical-align: middle;\n",
       "    }\n",
       "\n",
       "    .dataframe tbody tr th {\n",
       "        vertical-align: top;\n",
       "    }\n",
       "\n",
       "    .dataframe thead th {\n",
       "        text-align: right;\n",
       "    }\n",
       "</style>\n",
       "<table border=\"1\" class=\"dataframe\">\n",
       "  <thead>\n",
       "    <tr style=\"text-align: right;\">\n",
       "      <th></th>\n",
       "      <th>member</th>\n",
       "      <th>old</th>\n",
       "    </tr>\n",
       "  </thead>\n",
       "  <tbody>\n",
       "    <tr>\n",
       "      <th>birinci üye</th>\n",
       "      <td>selin</td>\n",
       "      <td>33</td>\n",
       "    </tr>\n",
       "    <tr>\n",
       "      <th>ikinci üye</th>\n",
       "      <td>ahmet</td>\n",
       "      <td>18</td>\n",
       "    </tr>\n",
       "    <tr>\n",
       "      <th>üçüncü üye</th>\n",
       "      <td>burçin</td>\n",
       "      <td>22</td>\n",
       "    </tr>\n",
       "  </tbody>\n",
       "</table>\n",
       "</div>"
      ],
      "text/plain": [
       "             member  old\n",
       "birinci üye   selin   33\n",
       "ikinci üye    ahmet   18\n",
       "üçüncü üye   burçin   22"
      ]
     },
     "execution_count": 103,
     "metadata": {},
     "output_type": "execute_result"
    }
   ],
   "source": [
    "listdict={\"member\":[\"selin\",\"ahmet\",\"burçin\"],\"old\":[33,18,22]}\n",
    "df = pd.DataFrame(listdict,index=['birinci üye','ikinci üye','üçüncü üye']) #index ile indexleri isimlendirilir. yani satır.\n",
    "df"
   ]
  },
  {
   "cell_type": "markdown",
   "id": "9d56fe6c",
   "metadata": {},
   "source": [
    "# seri ve dataframe incelemesi"
   ]
  },
  {
   "cell_type": "code",
   "execution_count": 109,
   "id": "b71f51d8",
   "metadata": {},
   "outputs": [
    {
     "name": "stdout",
     "output_type": "stream",
     "text": [
      "<class 'pandas.core.frame.DataFrame'>\n",
      "Index: 3 entries, birinci to üçüncü\n",
      "Data columns (total 3 columns):\n",
      " #   Column  Non-Null Count  Dtype\n",
      "---  ------  --------------  -----\n",
      " 0   bir     3 non-null      int32\n",
      " 1   iki     3 non-null      int32\n",
      " 2   üç      3 non-null      int32\n",
      "dtypes: int32(3)\n",
      "memory usage: 60.0+ bytes\n"
     ]
    }
   ],
   "source": [
    "a=np.random.randint(1,100,(3,3))\n",
    "df=pd.DataFrame(a,columns=[\"bir\",\"iki\",\"üç\"],index=[\"birinci\",\"ikinci\",\"üçüncü\"])\n",
    "df.info()#info ile index veri türü ve bellek bilgilerini görüntüleriz."
   ]
  },
  {
   "cell_type": "code",
   "execution_count": 116,
   "id": "76e4af01",
   "metadata": {},
   "outputs": [
    {
     "name": "stdout",
     "output_type": "stream",
     "text": [
      "[Index(['birinci', 'ikinci', 'üçüncü'], dtype='object'), Index(['bir', 'iki', 'üç'], dtype='object')]\n",
      "(3, 3)\n",
      "2\n",
      "9\n",
      "[[84 78 93]\n",
      " [81 26 31]\n",
      " [86  7 37]]\n",
      "         bir  iki  üç\n",
      "birinci   84   78  93\n",
      "ikinci    81   26  31\n",
      "üçüncü    86    7  37\n",
      "         bir  iki  üç\n",
      "birinci   84   78  93\n",
      "ikinci    81   26  31\n",
      "üçüncü    86    7  37\n"
     ]
    }
   ],
   "source": [
    "a=np.random.randint(1,100,(3,3))\n",
    "df=pd.DataFrame(a,columns=[\"bir\",\"iki\",\"üç\"],index=[\"birinci\",\"ikinci\",\"üçüncü\"])\n",
    "print(df.axes) #axes ile satır ve sütun bilgilerini görüntüleriz.\n",
    "print(df.shape) #shape iledataframe in boyut bilgilerini görüntüleriz.\n",
    "print(df.ndim) #ndim ile dataframe in boyutunu görüntüleriz.\n",
    "print(df.size) #size ile eleman sayısı görüntülenir.\n",
    "print(df.values) #dataframe deki değerleri görüntüleriz.\n",
    "print(df.head()) #dataframe'in ilk 5 satırını görüntüleriz.\n",
    "print(df.tail()) #dataframe'in son 5 satırını görüntüleriz."
   ]
  },
  {
   "cell_type": "markdown",
   "id": "31a2ec1d",
   "metadata": {},
   "source": [
    "# SEÇİM"
   ]
  },
  {
   "cell_type": "code",
   "execution_count": 129,
   "id": "71777b83",
   "metadata": {},
   "outputs": [
    {
     "name": "stdout",
     "output_type": "stream",
     "text": [
      "   s1  s2  s3  s4\n",
      "0  20  68  67  14\n",
      "1   6   5  81   1\n",
      "2  83  98  77  74\n",
      "3  16  53  85  71\n",
      "4  85  78  76  19\n",
      "5  63  58  63  61\n",
      "6  68  80  70  77\n",
      "7  74  13  39  72\n",
      "8  31  98  82  23\n",
      "9  59  38  43  85\n",
      "----------------------------------------\n",
      "   s1  s2  s3  s4\n",
      "2  83  98  77  74\n",
      "3  16  53  85  71\n",
      "------------------------------------------\n",
      "0    20\n",
      "1     6\n",
      "2    83\n",
      "3    16\n",
      "4    85\n",
      "5    63\n",
      "6    68\n",
      "7    74\n",
      "8    31\n",
      "9    59\n",
      "Name: s1, dtype: int32\n",
      "------------------------------------------\n",
      "0    20\n",
      "1     6\n",
      "2    83\n",
      "3    16\n",
      "4    85\n",
      "5    63\n",
      "6    68\n",
      "7    74\n",
      "8    31\n",
      "9    59\n",
      "Name: s1, dtype: int32\n",
      "------------------------------------------\n",
      "   s1  s3\n",
      "0  20  67\n",
      "1   6  81\n",
      "2  83  77\n",
      "3  16  85\n",
      "4  85  76\n",
      "5  63  63\n",
      "6  68  70\n",
      "7  74  39\n",
      "8  31  82\n",
      "9  59  43\n"
     ]
    }
   ],
   "source": [
    "d1=np.random.randint(0,100,size=10)\n",
    "d2=np.random.randint(0,100,size=10)\n",
    "d3=np.random.randint(0,100,size=10)\n",
    "d4=np.random.randint(0,100,size=10)\n",
    "dict={\"s1\":d1,\"s2\":d2,\"s3\":d3,\"s4\":d4}\n",
    "df=pd.DataFrame(dict)\n",
    "print(df)\n",
    "print(\"----------------------------------------\")\n",
    "print(df[2:4])# 2.satırdan 4. satıra kadar olan kısmı seçer.\n",
    "print(\"------------------------------------------\")\n",
    "print(df[\"s1\"])#s1 sütununu seçer.\n",
    "print(\"------------------------------------------\")\n",
    "print(df.s1)#aynı şekilde s1 sütununu seçer.\n",
    "print(\"------------------------------------------\")\n",
    "print(df[[\"s1\",\"s3\"]])#birden fazla sütun seçilir.\n"
   ]
  },
  {
   "cell_type": "markdown",
   "id": "6c98b756",
   "metadata": {},
   "source": [
    "iloc ile velirli bir noktayı seçme işlmei yapabiliriz. iloc[a:b,c:d] işleminde a ve satır başlangıç bitiş değerleri, a ve de ise sütun başlangıç bitiş değerleri. şöyle bir kullanımı da mevcuttur iloc[[1,2,3],[3,4]]. loc komutu ile de bu işlemler yapılabilir. iloc ve loc işlev olarak aynıdır fakat; iloc ile seçim yaparken index sayıları belirtilir. Ancak loc da isim ile belirtilebilir. örneğin satırlar a b c d diye gidiyorsa ilocta 0 3 arası ike locta a d arasıdır. "
   ]
  },
  {
   "cell_type": "code",
   "execution_count": 136,
   "id": "e5a3b347",
   "metadata": {},
   "outputs": [
    {
     "data": {
      "text/html": [
       "<div>\n",
       "<style scoped>\n",
       "    .dataframe tbody tr th:only-of-type {\n",
       "        vertical-align: middle;\n",
       "    }\n",
       "\n",
       "    .dataframe tbody tr th {\n",
       "        vertical-align: top;\n",
       "    }\n",
       "\n",
       "    .dataframe thead th {\n",
       "        text-align: right;\n",
       "    }\n",
       "</style>\n",
       "<table border=\"1\" class=\"dataframe\">\n",
       "  <thead>\n",
       "    <tr style=\"text-align: right;\">\n",
       "      <th></th>\n",
       "      <th>1</th>\n",
       "    </tr>\n",
       "  </thead>\n",
       "  <tbody>\n",
       "    <tr>\n",
       "      <th>0</th>\n",
       "      <td>33</td>\n",
       "    </tr>\n",
       "    <tr>\n",
       "      <th>1</th>\n",
       "      <td>95</td>\n",
       "    </tr>\n",
       "    <tr>\n",
       "      <th>2</th>\n",
       "      <td>53</td>\n",
       "    </tr>\n",
       "  </tbody>\n",
       "</table>\n",
       "</div>"
      ],
      "text/plain": [
       "    1\n",
       "0  33\n",
       "1  95\n",
       "2  53"
      ]
     },
     "execution_count": 136,
     "metadata": {},
     "output_type": "execute_result"
    }
   ],
   "source": [
    "a=np.random.randint(1,100,(3,3))\n",
    "df=pd.DataFrame(a)\n",
    "df.iloc[:,1:2]"
   ]
  },
  {
   "cell_type": "code",
   "execution_count": 138,
   "id": "9c247558",
   "metadata": {},
   "outputs": [
    {
     "name": "stdout",
     "output_type": "stream",
     "text": [
      "    0   1   2\n",
      "0  46  82  45\n",
      "1  19  14  54\n",
      "2  72  94  49\n"
     ]
    },
    {
     "data": {
      "text/plain": [
       "0    72\n",
       "1    94\n",
       "2    49\n",
       "Name: 2, dtype: int32"
      ]
     },
     "execution_count": 138,
     "metadata": {},
     "output_type": "execute_result"
    }
   ],
   "source": [
    "a=np.random.randint(1,100,(3,3))\n",
    "df=pd.DataFrame(a)\n",
    "print(df)\n",
    "df.loc[2]#satır seçme işlemi yapıldı."
   ]
  },
  {
   "cell_type": "code",
   "execution_count": 141,
   "id": "b647e252",
   "metadata": {},
   "outputs": [
    {
     "name": "stdout",
     "output_type": "stream",
     "text": [
      "    0   1   2\n",
      "0  86  16  94\n",
      "1  47  50  72\n",
      "2  34  14  78\n"
     ]
    },
    {
     "data": {
      "text/plain": [
       "0    86\n",
       "1    47\n",
       "2    34\n",
       "Name: 0, dtype: int32"
      ]
     },
     "execution_count": 141,
     "metadata": {},
     "output_type": "execute_result"
    }
   ],
   "source": [
    "a=np.random.randint(1,100,(3,3))\n",
    "df=pd.DataFrame(a)\n",
    "print(df)\n",
    "df.loc[:,0]#loc ile sütun seçme işlemi yapıldı."
   ]
  },
  {
   "cell_type": "markdown",
   "id": "d794f618",
   "metadata": {},
   "source": [
    "# birleştirme"
   ]
  },
  {
   "cell_type": "markdown",
   "id": "0c3a2710",
   "metadata": {},
   "source": [
    "• concat (), DataFrame'leri satırlar veya sütunlar arasında birleştirmek için kullanılır.\n",
    "• merge (), ortak sütunlar veya indeksler üzerindeki verileri birleştirmek için kullanılır.\n",
    "• join (), bir anahtar sütun veya bir indeks üzerinden verileri birleştirmek için kullanılır."
   ]
  },
  {
   "cell_type": "code",
   "execution_count": 154,
   "id": "64888f82",
   "metadata": {},
   "outputs": [
    {
     "name": "stdout",
     "output_type": "stream",
     "text": [
      "    x   y   a\n",
      "0  10  15  10\n",
      "1  15   1  17\n",
      "2  16  11  12 \n",
      "------------------------------------------------\n",
      "     x  y   z\n",
      "0  16  8  19\n",
      "1  16  8   4\n",
      "2   6  7  13\n",
      "------------------------------------------\n",
      "    x   y     a     z\n",
      "0  10  15  10.0   NaN\n",
      "1  15   1  17.0   NaN\n",
      "2  16  11  12.0   NaN\n",
      "3  16   8   NaN  19.0\n",
      "4  16   8   NaN   4.0\n",
      "5   6   7   NaN  13.0\n"
     ]
    }
   ],
   "source": [
    "a=np.random.randint(1,20,(3,3))\n",
    "b=np.random.randint(1,20,(3,3))\n",
    "df1=pd.DataFrame(a,columns=[\"x\",\"y\",\"a\"])\n",
    "df2=pd.DataFrame(b,columns=[\"x\",\"y\",\"z\"])\n",
    "print(df1,\"\\n------------------------------------------------\\n\",df2)\n",
    "print(\"------------------------------------------\")\n",
    "print(pd.concat([df1,df2],ignore_index=True))#ignore_index ile index numaraları sıralanır."
   ]
  },
  {
   "cell_type": "code",
   "execution_count": 52,
   "id": "037f3633",
   "metadata": {},
   "outputs": [
    {
     "data": {
      "text/html": [
       "<div>\n",
       "<style scoped>\n",
       "    .dataframe tbody tr th:only-of-type {\n",
       "        vertical-align: middle;\n",
       "    }\n",
       "\n",
       "    .dataframe tbody tr th {\n",
       "        vertical-align: top;\n",
       "    }\n",
       "\n",
       "    .dataframe thead th {\n",
       "        text-align: right;\n",
       "    }\n",
       "</style>\n",
       "<table border=\"1\" class=\"dataframe\">\n",
       "  <thead>\n",
       "    <tr style=\"text-align: right;\">\n",
       "      <th></th>\n",
       "      <th>x</th>\n",
       "      <th>y</th>\n",
       "    </tr>\n",
       "  </thead>\n",
       "  <tbody>\n",
       "    <tr>\n",
       "      <th>0</th>\n",
       "      <td>7</td>\n",
       "      <td>9</td>\n",
       "    </tr>\n",
       "    <tr>\n",
       "      <th>1</th>\n",
       "      <td>7</td>\n",
       "      <td>13</td>\n",
       "    </tr>\n",
       "    <tr>\n",
       "      <th>2</th>\n",
       "      <td>10</td>\n",
       "      <td>17</td>\n",
       "    </tr>\n",
       "    <tr>\n",
       "      <th>3</th>\n",
       "      <td>4</td>\n",
       "      <td>2</td>\n",
       "    </tr>\n",
       "    <tr>\n",
       "      <th>4</th>\n",
       "      <td>1</td>\n",
       "      <td>7</td>\n",
       "    </tr>\n",
       "    <tr>\n",
       "      <th>5</th>\n",
       "      <td>7</td>\n",
       "      <td>6</td>\n",
       "    </tr>\n",
       "  </tbody>\n",
       "</table>\n",
       "</div>"
      ],
      "text/plain": [
       "    x   y\n",
       "0   7   9\n",
       "1   7  13\n",
       "2  10  17\n",
       "3   4   2\n",
       "4   1   7\n",
       "5   7   6"
      ]
     },
     "execution_count": 52,
     "metadata": {},
     "output_type": "execute_result"
    }
   ],
   "source": [
    "a=np.random.randint(1,20,(3,3))\n",
    "b=np.random.randint(1,20,(3,3))\n",
    "df1=pd.DataFrame(a,columns=[\"x\",\"y\",\"a\"])\n",
    "df2=pd.DataFrame(b,columns=[\"x\",\"y\",\"z\"])\n",
    "pd.concat([df1,df2],ignore_index=True,join=\"inner\") #join inner ile yalnızca aynı sütun ismine sahip sütunlar birleşir."
   ]
  },
  {
   "cell_type": "code",
   "execution_count": 51,
   "id": "6183c85d",
   "metadata": {},
   "outputs": [
    {
     "data": {
      "text/html": [
       "<div>\n",
       "<style scoped>\n",
       "    .dataframe tbody tr th:only-of-type {\n",
       "        vertical-align: middle;\n",
       "    }\n",
       "\n",
       "    .dataframe tbody tr th {\n",
       "        vertical-align: top;\n",
       "    }\n",
       "\n",
       "    .dataframe thead th {\n",
       "        text-align: right;\n",
       "    }\n",
       "</style>\n",
       "<table border=\"1\" class=\"dataframe\">\n",
       "  <thead>\n",
       "    <tr style=\"text-align: right;\">\n",
       "      <th></th>\n",
       "      <th>anahtar</th>\n",
       "      <th>X</th>\n",
       "      <th>Y</th>\n",
       "      <th>Z</th>\n",
       "      <th>T</th>\n",
       "    </tr>\n",
       "  </thead>\n",
       "  <tbody>\n",
       "    <tr>\n",
       "      <th>0</th>\n",
       "      <td>A0</td>\n",
       "      <td>X0</td>\n",
       "      <td>Y0</td>\n",
       "      <td>Z0</td>\n",
       "      <td>T0</td>\n",
       "    </tr>\n",
       "    <tr>\n",
       "      <th>1</th>\n",
       "      <td>A1</td>\n",
       "      <td>X1</td>\n",
       "      <td>Y1</td>\n",
       "      <td>Z1</td>\n",
       "      <td>T1</td>\n",
       "    </tr>\n",
       "    <tr>\n",
       "      <th>2</th>\n",
       "      <td>A2</td>\n",
       "      <td>X2</td>\n",
       "      <td>Y2</td>\n",
       "      <td>Z2</td>\n",
       "      <td>T2</td>\n",
       "    </tr>\n",
       "    <tr>\n",
       "      <th>3</th>\n",
       "      <td>A3</td>\n",
       "      <td>X3</td>\n",
       "      <td>Y3</td>\n",
       "      <td>Z3</td>\n",
       "      <td>T3</td>\n",
       "    </tr>\n",
       "  </tbody>\n",
       "</table>\n",
       "</div>"
      ],
      "text/plain": [
       "  anahtar   X   Y   Z   T\n",
       "0      A0  X0  Y0  Z0  T0\n",
       "1      A1  X1  Y1  Z1  T1\n",
       "2      A2  X2  Y2  Z2  T2\n",
       "3      A3  X3  Y3  Z3  T3"
      ]
     },
     "execution_count": 51,
     "metadata": {},
     "output_type": "execute_result"
    }
   ],
   "source": [
    "#Oluşturulan DataFrame nesnelerinin anahtar adındaki sütun üzerinden merge metodunu kullanarak birleştirme işlemini yaptık.\n",
    "sol = pd.DataFrame({\"anahtar\": [\"A0\", \"A1\", \"A2\", \"A3\"],\"X\": [\"X0\", \"X1\", \"X2\", \"X3\"],\"Y\": [\"Y0\", \"Y1\", \"Y2\", \"Y3\"],})\n",
    "sag = pd.DataFrame({\"anahtar\": [\"A0\", \"A1\", \"A2\", \"A3\"],\"Z\": [\"Z0\", \"Z1\", \"Z2\", \"Z3\"],\"T\": [\"T0\", \"T1\", \"T2\", \"T3\"],})\n",
    "birlesim = pd.merge(sol, sag,on=\"anahtar\")\n",
    "birlesim\n"
   ]
  },
  {
   "cell_type": "code",
   "execution_count": 6,
   "id": "505b079d",
   "metadata": {},
   "outputs": [
    {
     "data": {
      "text/html": [
       "<div>\n",
       "<style scoped>\n",
       "    .dataframe tbody tr th:only-of-type {\n",
       "        vertical-align: middle;\n",
       "    }\n",
       "\n",
       "    .dataframe tbody tr th {\n",
       "        vertical-align: top;\n",
       "    }\n",
       "\n",
       "    .dataframe thead th {\n",
       "        text-align: right;\n",
       "    }\n",
       "</style>\n",
       "<table border=\"1\" class=\"dataframe\">\n",
       "  <thead>\n",
       "    <tr style=\"text-align: right;\">\n",
       "      <th></th>\n",
       "      <th>anahtar</th>\n",
       "      <th>X</th>\n",
       "      <th>Y</th>\n",
       "      <th>Z</th>\n",
       "      <th>T</th>\n",
       "    </tr>\n",
       "  </thead>\n",
       "  <tbody>\n",
       "    <tr>\n",
       "      <th>0</th>\n",
       "      <td>A0</td>\n",
       "      <td>X0</td>\n",
       "      <td>Y0</td>\n",
       "      <td>Z0</td>\n",
       "      <td>T0</td>\n",
       "    </tr>\n",
       "    <tr>\n",
       "      <th>1</th>\n",
       "      <td>A1</td>\n",
       "      <td>X1</td>\n",
       "      <td>Y1</td>\n",
       "      <td>Z1</td>\n",
       "      <td>T1</td>\n",
       "    </tr>\n",
       "    <tr>\n",
       "      <th>2</th>\n",
       "      <td>A2</td>\n",
       "      <td>X2</td>\n",
       "      <td>Y2</td>\n",
       "      <td>Z2</td>\n",
       "      <td>T2</td>\n",
       "    </tr>\n",
       "    <tr>\n",
       "      <th>3</th>\n",
       "      <td>A3</td>\n",
       "      <td>X3</td>\n",
       "      <td>Y3</td>\n",
       "      <td>NaN</td>\n",
       "      <td>NaN</td>\n",
       "    </tr>\n",
       "  </tbody>\n",
       "</table>\n",
       "</div>"
      ],
      "text/plain": [
       "  anahtar   X   Y    Z    T\n",
       "0      A0  X0  Y0   Z0   T0\n",
       "1      A1  X1  Y1   Z1   T1\n",
       "2      A2  X2  Y2   Z2   T2\n",
       "3      A3  X3  Y3  NaN  NaN"
      ]
     },
     "execution_count": 6,
     "metadata": {},
     "output_type": "execute_result"
    }
   ],
   "source": [
    "#Oluşturulan DataFrame nesnelerinin anahtar adındaki sütun üzerinden merge metodunu kullanarak birleştirme işlemini yaptık.\n",
    "sol = pd.DataFrame({\"anahtar\": [\"A0\", \"A1\", \"A2\", \"A3\"],\"X\": [\"X0\", \"X1\", \"X2\", \"X3\"],\"Y\": [\"Y0\", \"Y1\", \"Y2\", \"Y3\"],})\n",
    "sag = pd.DataFrame({\"anahtar\": [\"A0\", \"A1\", \"A2\", \"A3\"],\"Z\": [\"Z0\", \"Z1\", \"Z2\", \"Z3\"],\"T\": [\"T0\", \"T1\", \"T2\", \"T3\"],})\n",
    "sag.iloc[[3],[0]]=\"A4\"# A3 ü A4 yaptık diye o satırı sildi\n",
    "birlesim = pd.merge(sol, sag,on=\"anahtar\",how=\"left\")\n",
    "birlesim"
   ]
  },
  {
   "cell_type": "code",
   "execution_count": 21,
   "id": "cc86c750",
   "metadata": {},
   "outputs": [
    {
     "data": {
      "text/html": [
       "<div>\n",
       "<style scoped>\n",
       "    .dataframe tbody tr th:only-of-type {\n",
       "        vertical-align: middle;\n",
       "    }\n",
       "\n",
       "    .dataframe tbody tr th {\n",
       "        vertical-align: top;\n",
       "    }\n",
       "\n",
       "    .dataframe thead th {\n",
       "        text-align: right;\n",
       "    }\n",
       "</style>\n",
       "<table border=\"1\" class=\"dataframe\">\n",
       "  <thead>\n",
       "    <tr style=\"text-align: right;\">\n",
       "      <th></th>\n",
       "      <th>isimler</th>\n",
       "      <th>yaşlar</th>\n",
       "      <th>isim</th>\n",
       "      <th>yaş</th>\n",
       "    </tr>\n",
       "  </thead>\n",
       "  <tbody>\n",
       "    <tr>\n",
       "      <th>k</th>\n",
       "      <td>ali</td>\n",
       "      <td>11</td>\n",
       "      <td>a</td>\n",
       "      <td>1</td>\n",
       "    </tr>\n",
       "    <tr>\n",
       "      <th>e</th>\n",
       "      <td>ayşe</td>\n",
       "      <td>25</td>\n",
       "      <td>şe</td>\n",
       "      <td>2</td>\n",
       "    </tr>\n",
       "    <tr>\n",
       "      <th>j</th>\n",
       "      <td>mehmet</td>\n",
       "      <td>14</td>\n",
       "      <td>meet</td>\n",
       "      <td>3</td>\n",
       "    </tr>\n",
       "  </tbody>\n",
       "</table>\n",
       "</div>"
      ],
      "text/plain": [
       "  isimler yaşlar  isim yaş\n",
       "k     ali     11     a   1\n",
       "e    ayşe     25    şe   2\n",
       "j  mehmet     14  meet   3"
      ]
     },
     "execution_count": 21,
     "metadata": {},
     "output_type": "execute_result"
    }
   ],
   "source": [
    "df1=pd.DataFrame({\"isimler\":[\"ali\",\"ayşe\",\"mehmet\"],\"yaşlar\":[\"11\",\"25\",\"14\"]},index=[\"k\",\"e\",\"j\"])\n",
    "df2=pd.DataFrame({\"isim\":[\"a\",\"şe\",\"meet\"],\"yaş\":[\"1\",\"2\",\"3\"]},index=[\"k\",\"e\",\"j\"])\n",
    "a=df1.join(df2#how=\"outer\" veya how=\"inner\" parametrelerini kullanabilirsiniz)\n",
    "a"
   ]
  },
  {
   "cell_type": "markdown",
   "id": "4610c813",
   "metadata": {},
   "source": [
    "pandas okuma ve yazma parametreleri:\n",
    "okuma:\n",
    "-pd.read_csv()\n",
    "-pd.read_excel()\n",
    "-pd.read_json()\n",
    "-pd.read_html()\n",
    "-pd.read_sql()\n",
    "yazma:\n",
    "-df.to_csv(dosya adı)\n",
    "-df.to_excel()\n",
    "-df.to_sql()\n",
    "-df.to_json()\n",
    "\n",
    "\n",
    "df.describe() dataframe hakkında istatistiksel bilgi verir.\n",
    "df.drop([1,2]) df dataframindeki 1 ve 2. satırları kaldırır.\n",
    "df.drop(\"aa\",axis=1) df dataframinden aa adınaki sütunu kaldırır."
   ]
  },
  {
   "cell_type": "code",
   "execution_count": 50,
   "id": "e90d8f96",
   "metadata": {},
   "outputs": [
    {
     "data": {
      "text/html": [
       "<div>\n",
       "<style scoped>\n",
       "    .dataframe tbody tr th:only-of-type {\n",
       "        vertical-align: middle;\n",
       "    }\n",
       "\n",
       "    .dataframe tbody tr th {\n",
       "        vertical-align: top;\n",
       "    }\n",
       "\n",
       "    .dataframe thead th {\n",
       "        text-align: right;\n",
       "    }\n",
       "</style>\n",
       "<table border=\"1\" class=\"dataframe\">\n",
       "  <thead>\n",
       "    <tr style=\"text-align: right;\">\n",
       "      <th></th>\n",
       "      <th>sepal_length</th>\n",
       "      <th>sepal_width</th>\n",
       "      <th>petal_length</th>\n",
       "      <th>petal_width</th>\n",
       "    </tr>\n",
       "    <tr>\n",
       "      <th>species</th>\n",
       "      <th></th>\n",
       "      <th></th>\n",
       "      <th></th>\n",
       "      <th></th>\n",
       "    </tr>\n",
       "  </thead>\n",
       "  <tbody>\n",
       "    <tr>\n",
       "      <th>Iris-setosa</th>\n",
       "      <td>50</td>\n",
       "      <td>50</td>\n",
       "      <td>50</td>\n",
       "      <td>50</td>\n",
       "    </tr>\n",
       "    <tr>\n",
       "      <th>Iris-versicolor</th>\n",
       "      <td>50</td>\n",
       "      <td>50</td>\n",
       "      <td>50</td>\n",
       "      <td>50</td>\n",
       "    </tr>\n",
       "    <tr>\n",
       "      <th>Iris-virginica</th>\n",
       "      <td>50</td>\n",
       "      <td>50</td>\n",
       "      <td>50</td>\n",
       "      <td>50</td>\n",
       "    </tr>\n",
       "  </tbody>\n",
       "</table>\n",
       "</div>"
      ],
      "text/plain": [
       "                 sepal_length  sepal_width  petal_length  petal_width\n",
       "species                                                              \n",
       "Iris-setosa                50           50            50           50\n",
       "Iris-versicolor            50           50            50           50\n",
       "Iris-virginica             50           50            50           50"
      ]
     },
     "execution_count": 50,
     "metadata": {},
     "output_type": "execute_result"
    }
   ],
   "source": [
    "data=pd.read_csv(\"iris.csv\")\n",
    "data.groupby(\"species\").count()#groupby ile species sütununa göre gruplandırdık. count ile grupları gördük. mean ile ortalam al."
   ]
  },
  {
   "cell_type": "code",
   "execution_count": 41,
   "id": "eb0257ee",
   "metadata": {},
   "outputs": [
    {
     "data": {
      "text/html": [
       "<div>\n",
       "<style scoped>\n",
       "    .dataframe tbody tr th:only-of-type {\n",
       "        vertical-align: middle;\n",
       "    }\n",
       "\n",
       "    .dataframe tbody tr th {\n",
       "        vertical-align: top;\n",
       "    }\n",
       "\n",
       "    .dataframe thead th {\n",
       "        text-align: right;\n",
       "    }\n",
       "</style>\n",
       "<table border=\"1\" class=\"dataframe\">\n",
       "  <thead>\n",
       "    <tr style=\"text-align: right;\">\n",
       "      <th></th>\n",
       "      <th>sepal_length</th>\n",
       "      <th>sepal_width</th>\n",
       "      <th>petal_length</th>\n",
       "      <th>petal_width</th>\n",
       "    </tr>\n",
       "    <tr>\n",
       "      <th>species</th>\n",
       "      <th></th>\n",
       "      <th></th>\n",
       "      <th></th>\n",
       "      <th></th>\n",
       "    </tr>\n",
       "  </thead>\n",
       "  <tbody>\n",
       "    <tr>\n",
       "      <th>Iris-setosa</th>\n",
       "      <td>5.006</td>\n",
       "      <td>3.418</td>\n",
       "      <td>1.464</td>\n",
       "      <td>0.244</td>\n",
       "    </tr>\n",
       "    <tr>\n",
       "      <th>Iris-versicolor</th>\n",
       "      <td>5.936</td>\n",
       "      <td>2.770</td>\n",
       "      <td>4.260</td>\n",
       "      <td>1.326</td>\n",
       "    </tr>\n",
       "    <tr>\n",
       "      <th>Iris-virginica</th>\n",
       "      <td>6.588</td>\n",
       "      <td>2.974</td>\n",
       "      <td>5.552</td>\n",
       "      <td>2.026</td>\n",
       "    </tr>\n",
       "  </tbody>\n",
       "</table>\n",
       "</div>"
      ],
      "text/plain": [
       "                 sepal_length  sepal_width  petal_length  petal_width\n",
       "species                                                              \n",
       "Iris-setosa             5.006        3.418         1.464        0.244\n",
       "Iris-versicolor         5.936        2.770         4.260        1.326\n",
       "Iris-virginica          6.588        2.974         5.552        2.026"
      ]
     },
     "execution_count": 41,
     "metadata": {},
     "output_type": "execute_result"
    }
   ],
   "source": [
    "data=pd.read_csv(\"iris.csv\")\n",
    "data.groupby(\"species\").mean()#gruplanan türlerin ortalaması\n"
   ]
  },
  {
   "cell_type": "code",
   "execution_count": 42,
   "id": "45a2188f",
   "metadata": {},
   "outputs": [
    {
     "data": {
      "text/html": [
       "<div>\n",
       "<style scoped>\n",
       "    .dataframe tbody tr th:only-of-type {\n",
       "        vertical-align: middle;\n",
       "    }\n",
       "\n",
       "    .dataframe tbody tr th {\n",
       "        vertical-align: top;\n",
       "    }\n",
       "\n",
       "    .dataframe thead th {\n",
       "        text-align: right;\n",
       "    }\n",
       "</style>\n",
       "<table border=\"1\" class=\"dataframe\">\n",
       "  <thead>\n",
       "    <tr style=\"text-align: right;\">\n",
       "      <th></th>\n",
       "      <th>sepal_length</th>\n",
       "      <th>sepal_width</th>\n",
       "      <th>petal_length</th>\n",
       "      <th>petal_width</th>\n",
       "    </tr>\n",
       "    <tr>\n",
       "      <th>species</th>\n",
       "      <th></th>\n",
       "      <th></th>\n",
       "      <th></th>\n",
       "      <th></th>\n",
       "    </tr>\n",
       "  </thead>\n",
       "  <tbody>\n",
       "    <tr>\n",
       "      <th>Iris-setosa</th>\n",
       "      <td>250.3</td>\n",
       "      <td>170.9</td>\n",
       "      <td>73.2</td>\n",
       "      <td>12.2</td>\n",
       "    </tr>\n",
       "    <tr>\n",
       "      <th>Iris-versicolor</th>\n",
       "      <td>296.8</td>\n",
       "      <td>138.5</td>\n",
       "      <td>213.0</td>\n",
       "      <td>66.3</td>\n",
       "    </tr>\n",
       "    <tr>\n",
       "      <th>Iris-virginica</th>\n",
       "      <td>329.4</td>\n",
       "      <td>148.7</td>\n",
       "      <td>277.6</td>\n",
       "      <td>101.3</td>\n",
       "    </tr>\n",
       "  </tbody>\n",
       "</table>\n",
       "</div>"
      ],
      "text/plain": [
       "                 sepal_length  sepal_width  petal_length  petal_width\n",
       "species                                                              \n",
       "Iris-setosa             250.3        170.9          73.2         12.2\n",
       "Iris-versicolor         296.8        138.5         213.0         66.3\n",
       "Iris-virginica          329.4        148.7         277.6        101.3"
      ]
     },
     "execution_count": 42,
     "metadata": {},
     "output_type": "execute_result"
    }
   ],
   "source": [
    "data=pd.read_csv(\"iris.csv\")\n",
    "data.groupby(\"species\").sum()#gruplanan türlerin toplamı."
   ]
  },
  {
   "cell_type": "code",
   "execution_count": 43,
   "id": "804f57b9",
   "metadata": {},
   "outputs": [
    {
     "data": {
      "text/html": [
       "<div>\n",
       "<style scoped>\n",
       "    .dataframe tbody tr th:only-of-type {\n",
       "        vertical-align: middle;\n",
       "    }\n",
       "\n",
       "    .dataframe tbody tr th {\n",
       "        vertical-align: top;\n",
       "    }\n",
       "\n",
       "    .dataframe thead tr th {\n",
       "        text-align: left;\n",
       "    }\n",
       "\n",
       "    .dataframe thead tr:last-of-type th {\n",
       "        text-align: right;\n",
       "    }\n",
       "</style>\n",
       "<table border=\"1\" class=\"dataframe\">\n",
       "  <thead>\n",
       "    <tr>\n",
       "      <th></th>\n",
       "      <th colspan=\"3\" halign=\"left\">sepal_length</th>\n",
       "      <th colspan=\"3\" halign=\"left\">sepal_width</th>\n",
       "      <th colspan=\"3\" halign=\"left\">petal_length</th>\n",
       "      <th colspan=\"3\" halign=\"left\">petal_width</th>\n",
       "    </tr>\n",
       "    <tr>\n",
       "      <th></th>\n",
       "      <th>min</th>\n",
       "      <th>max</th>\n",
       "      <th>std</th>\n",
       "      <th>min</th>\n",
       "      <th>max</th>\n",
       "      <th>std</th>\n",
       "      <th>min</th>\n",
       "      <th>max</th>\n",
       "      <th>std</th>\n",
       "      <th>min</th>\n",
       "      <th>max</th>\n",
       "      <th>std</th>\n",
       "    </tr>\n",
       "    <tr>\n",
       "      <th>species</th>\n",
       "      <th></th>\n",
       "      <th></th>\n",
       "      <th></th>\n",
       "      <th></th>\n",
       "      <th></th>\n",
       "      <th></th>\n",
       "      <th></th>\n",
       "      <th></th>\n",
       "      <th></th>\n",
       "      <th></th>\n",
       "      <th></th>\n",
       "      <th></th>\n",
       "    </tr>\n",
       "  </thead>\n",
       "  <tbody>\n",
       "    <tr>\n",
       "      <th>Iris-setosa</th>\n",
       "      <td>4.3</td>\n",
       "      <td>5.8</td>\n",
       "      <td>0.352490</td>\n",
       "      <td>2.3</td>\n",
       "      <td>4.4</td>\n",
       "      <td>0.381024</td>\n",
       "      <td>1.0</td>\n",
       "      <td>1.9</td>\n",
       "      <td>0.173511</td>\n",
       "      <td>0.1</td>\n",
       "      <td>0.6</td>\n",
       "      <td>0.107210</td>\n",
       "    </tr>\n",
       "    <tr>\n",
       "      <th>Iris-versicolor</th>\n",
       "      <td>4.9</td>\n",
       "      <td>7.0</td>\n",
       "      <td>0.516171</td>\n",
       "      <td>2.0</td>\n",
       "      <td>3.4</td>\n",
       "      <td>0.313798</td>\n",
       "      <td>3.0</td>\n",
       "      <td>5.1</td>\n",
       "      <td>0.469911</td>\n",
       "      <td>1.0</td>\n",
       "      <td>1.8</td>\n",
       "      <td>0.197753</td>\n",
       "    </tr>\n",
       "    <tr>\n",
       "      <th>Iris-virginica</th>\n",
       "      <td>4.9</td>\n",
       "      <td>7.9</td>\n",
       "      <td>0.635880</td>\n",
       "      <td>2.2</td>\n",
       "      <td>3.8</td>\n",
       "      <td>0.322497</td>\n",
       "      <td>4.5</td>\n",
       "      <td>6.9</td>\n",
       "      <td>0.551895</td>\n",
       "      <td>1.4</td>\n",
       "      <td>2.5</td>\n",
       "      <td>0.274650</td>\n",
       "    </tr>\n",
       "  </tbody>\n",
       "</table>\n",
       "</div>"
      ],
      "text/plain": [
       "                sepal_length                sepal_width                 \\\n",
       "                         min  max       std         min  max       std   \n",
       "species                                                                  \n",
       "Iris-setosa              4.3  5.8  0.352490         2.3  4.4  0.381024   \n",
       "Iris-versicolor          4.9  7.0  0.516171         2.0  3.4  0.313798   \n",
       "Iris-virginica           4.9  7.9  0.635880         2.2  3.8  0.322497   \n",
       "\n",
       "                petal_length                petal_width                 \n",
       "                         min  max       std         min  max       std  \n",
       "species                                                                 \n",
       "Iris-setosa              1.0  1.9  0.173511         0.1  0.6  0.107210  \n",
       "Iris-versicolor          3.0  5.1  0.469911         1.0  1.8  0.197753  \n",
       "Iris-virginica           4.5  6.9  0.551895         1.4  2.5  0.274650  "
      ]
     },
     "execution_count": 43,
     "metadata": {},
     "output_type": "execute_result"
    }
   ],
   "source": [
    "#Gruplanan türlerin birden fazla özelliğine göre gruplamak için aggregate fonksiyonunu kullanırız.\n",
    "data=pd.read_csv(\"iris.csv\")\n",
    "data.groupby(\"species\").agg([min,max,np.std])"
   ]
  },
  {
   "cell_type": "code",
   "execution_count": 49,
   "id": "740b7042",
   "metadata": {},
   "outputs": [
    {
     "data": {
      "text/html": [
       "<div>\n",
       "<style scoped>\n",
       "    .dataframe tbody tr th:only-of-type {\n",
       "        vertical-align: middle;\n",
       "    }\n",
       "\n",
       "    .dataframe tbody tr th {\n",
       "        vertical-align: top;\n",
       "    }\n",
       "\n",
       "    .dataframe thead th {\n",
       "        text-align: right;\n",
       "    }\n",
       "</style>\n",
       "<table border=\"1\" class=\"dataframe\">\n",
       "  <thead>\n",
       "    <tr style=\"text-align: right;\">\n",
       "      <th></th>\n",
       "      <th>max</th>\n",
       "      <th>min</th>\n",
       "    </tr>\n",
       "    <tr>\n",
       "      <th>species</th>\n",
       "      <th></th>\n",
       "      <th></th>\n",
       "    </tr>\n",
       "  </thead>\n",
       "  <tbody>\n",
       "    <tr>\n",
       "      <th>Iris-setosa</th>\n",
       "      <td>5.8</td>\n",
       "      <td>4.3</td>\n",
       "    </tr>\n",
       "    <tr>\n",
       "      <th>Iris-versicolor</th>\n",
       "      <td>7.0</td>\n",
       "      <td>4.9</td>\n",
       "    </tr>\n",
       "    <tr>\n",
       "      <th>Iris-virginica</th>\n",
       "      <td>7.9</td>\n",
       "      <td>4.9</td>\n",
       "    </tr>\n",
       "  </tbody>\n",
       "</table>\n",
       "</div>"
      ],
      "text/plain": [
       "                 max  min\n",
       "species                  \n",
       "Iris-setosa      5.8  4.3\n",
       "Iris-versicolor  7.0  4.9\n",
       "Iris-virginica   7.9  4.9"
      ]
     },
     "execution_count": 49,
     "metadata": {},
     "output_type": "execute_result"
    }
   ],
   "source": [
    "#Gruplanan türlerin sadece belirli sütununa göre seçim yapmak için sütun kısmını seçme işlemini yaparız.\n",
    "data=pd.read_csv(\"iris.csv\")\n",
    "data.groupby(\"species\")[\"sepal_length\"].aggregate([max,min])"
   ]
  },
  {
   "cell_type": "markdown",
   "id": "32c9b49b",
   "metadata": {},
   "source": [
    "# VERİ GÖRSELLEŞTİRME"
   ]
  },
  {
   "cell_type": "code",
   "execution_count": 53,
   "id": "2540aa89",
   "metadata": {},
   "outputs": [],
   "source": [
    "import matplotlib.pyplot as plt"
   ]
  },
  {
   "cell_type": "code",
   "execution_count": 74,
   "id": "4650e2a4",
   "metadata": {},
   "outputs": [
    {
     "data": {
      "image/png": "[encoded data removed]",
      "text/plain": [
       "<Figure size 640x480 with 1 Axes>"
      ]
     },
     "metadata": {},
     "output_type": "display_data"
    }
   ],
   "source": [
    "data=[4,7,2,8,2,89,0]\n",
    "plt.plot(data)\n",
    "plt.show()"
   ]
  },
  {
   "cell_type": "code",
   "execution_count": 73,
   "id": "621c37fb",
   "metadata": {},
   "outputs": [
    {
     "data": {
      "image/png": "[encoded data removed]",
      "text/plain": [
       "<Figure size 640x480 with 1 Axes>"
      ]
     },
     "metadata": {},
     "output_type": "display_data"
    }
   ],
   "source": [
    "x=np.arange(11)\n",
    "y=x**2\n",
    "y1=x\n",
    "y2=x**3\n",
    "y3=(x**2+1)\n",
    "plt.plot(x,y)\n",
    "plt.plot(x,y1)\n",
    "plt.plot(x,y2)\n",
    "plt.plot(x,y3)\n",
    "plt.title('Çizgi Grafik') \n",
    "plt.ylabel('Y Ekseni') \n",
    "plt.xlabel('X Ekseni')\n",
    "plt.show()"
   ]
  },
  {
   "cell_type": "code",
   "execution_count": 79,
   "id": "9c9d3f7e",
   "metadata": {},
   "outputs": [
    {
     "data": {
      "image/png": "[encoded data removed]",
      "text/plain": [
       "<Figure size 640x480 with 1 Axes>"
      ]
     },
     "metadata": {},
     "output_type": "display_data"
    }
   ],
   "source": [
    "data = [[30, 25, 45, 30],\n",
    "[35, 20, 46, 18],\n",
    "[20, 25, 45, 18]]\n",
    "x= np.arange(4)\n",
    "plt.bar(x + 0.00, data[0], color = 'yellow', width = 0.25)\n",
    "plt.bar(x + 0.25, data[1], color = 'purple', width = 0.25)\n",
    "plt.bar(x + 0.50, data[2], color = 'cyan', width = 0.25)\n",
    "plt.show()"
   ]
  },
  {
   "cell_type": "code",
   "execution_count": 80,
   "id": "6eba82f1",
   "metadata": {},
   "outputs": [
    {
     "ename": "ModuleNotFoundError",
     "evalue": "No module named 'pandas_datareader'",
     "output_type": "error",
     "traceback": [
      "\u001b[1;31m---------------------------------------------------------------------------\u001b[0m",
      "\u001b[1;31mModuleNotFoundError\u001b[0m                       Traceback (most recent call last)",
      "Cell \u001b[1;32mIn[80], line 1\u001b[0m\n\u001b[1;32m----> 1\u001b[0m \u001b[38;5;28;01mimport\u001b[39;00m \u001b[38;5;21;01mpandas_datareader\u001b[39;00m\u001b[38;5;21;01m.\u001b[39;00m\u001b[38;5;21;01mdata\u001b[39;00m \u001b[38;5;28;01mas\u001b[39;00m \u001b[38;5;21;01mpdr\u001b[39;00m\n",
      "\u001b[1;31mModuleNotFoundError\u001b[0m: No module named 'pandas_datareader'"
     ]
    }
   ],
   "source": [
    "import pandas_datareader.data as pdr"
   ]
  },
  {
   "cell_type": "code",
   "execution_count": null,
   "id": "6377654e",
   "metadata": {},
   "outputs": [],
   "source": []
  }
 ],
 "metadata": {
  "kernelspec": {
   "display_name": "Python 3 (ipykernel)",
   "language": "python",
   "name": "python3"
  },
  "language_info": {
   "codemirror_mode": {
    "name": "ipython",
    "version": 3
   },
   "file_extension": ".py",
   "mimetype": "text/x-python",
   "name": "python",
   "nbconvert_exporter": "python",
   "pygments_lexer": "ipython3",
   "version": "3.11.3"
  }
 },
 "nbformat": 4,
 "nbformat_minor": 5
}
